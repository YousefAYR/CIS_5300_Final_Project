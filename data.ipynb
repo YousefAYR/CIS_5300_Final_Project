{
 "cells": [
  {
   "cell_type": "code",
   "execution_count": 2,
   "metadata": {},
   "outputs": [],
   "source": [
    "import pandas as pd\n",
    "from sklearn.model_selection import train_test_split\n",
    "import os"
   ]
  },
  {
   "cell_type": "markdown",
   "metadata": {},
   "source": [
    "## Download and Clean Datasets"
   ]
  },
  {
   "cell_type": "code",
   "execution_count": null,
   "metadata": {},
   "outputs": [],
   "source": [
    "!gdown 1qrrznvcHkyUPoxq4GbauPxcT3mMGILVw\n",
    "!gdown 1m_0tZXsqQSxaogvby83B5CRzgJcspFvU\n",
    "!mv archive.zip raw_data/2020_tweets/\n",
    "!mv reddit_corpus_unbalanced_filtered.gzip raw_data/factoid_reddit/"
   ]
  },
  {
   "cell_type": "markdown",
   "metadata": {},
   "source": [
    "### labeled_tweets_georgetown clean"
   ]
  },
  {
   "cell_type": "code",
   "execution_count": null,
   "metadata": {},
   "outputs": [],
   "source": [
    "raw_data_path = 'raw_data/labeled_tweets_georgetown/'\n",
    "output_path = 'data/labeled_tweets_georgetown/'\n",
    "\n",
    "def determine_stance(row):\n",
    "    if row['label'] == \"NONE\":\n",
    "        return 0\n",
    "    if (row['label'] == \"FAVOR\" and row['candidate'] == \"Trump\") or \\\n",
    "       (row['label'] == \"AGAINST\" and row['candidate'] == \"Biden\"):\n",
    "        return 1\n",
    "    if (row['label'] == \"FAVOR\" and row['candidate'] == \"Biden\") or \\\n",
    "       (row['label'] == \"AGAINST\" and row['candidate'] == \"Trump\"):\n",
    "        return -1\n",
    "\n",
    "for csv_file in os.listdir(raw_data_path):\n",
    "    if csv_file.endswith(\".csv\"):\n",
    "        file_path = os.path.join(raw_data_path, csv_file)\n",
    "        df = pd.read_csv(file_path)\n",
    "        \n",
    "        df['stance'] = df.apply(determine_stance, axis=1)\n",
    "        df = df.drop(columns=['tweet_id', 'label', 'candidate'])\n",
    "\n",
    "        output_file_path = os.path.join(output_path, csv_file)\n",
    "        df.to_csv(output_file_path, index=False)"
   ]
  },
  {
   "cell_type": "markdown",
   "metadata": {},
   "source": [
    "### factoid_reddit cleanup"
   ]
  },
  {
   "cell_type": "code",
   "execution_count": 4,
   "metadata": {},
   "outputs": [],
   "source": [
    "raw_data_path = 'raw_data/factoid_reddit/'\n",
    "output_path = 'data/factoid_reddit/'\n",
    "df_raw = pd.read_pickle(raw_data_path + 'reddit_corpus_unbalanced_filtered.gzip', compression='gzip')\n",
    "\n",
    "columns_to_keep = [\n",
    "    'documents','pb_factor'\n",
    "]\n",
    "\n",
    "df_raw = df_raw[columns_to_keep]\n",
    "df = pd.DataFrame({\n",
    "    \"text\": df_raw[\"documents\"].apply(lambda x: [tup[1] for tup in x]),\n",
    "    \"label\": df_raw[\"pb_factor\"].apply(lambda x: -1 if x < -0.5 else (1 if x > 0.5 else 0))\n",
    "})\n",
    "df = df.explode(\"text\").reset_index(drop=True)\n",
    "\n",
    "train_df, temp_df = train_test_split(df, test_size=0.2, random_state=42)\n",
    "dev_df, test_df = train_test_split(temp_df, test_size=0.5, random_state=42)\n",
    "\n",
    "\n",
    "train_df.to_csv(output_path + 'train.csv', index=False)\n",
    "dev_df.to_csv(output_path + 'dev.csv', index=False)\n",
    "test_df.to_csv(output_path + 'test.csv', index=False)"
   ]
  },
  {
   "cell_type": "markdown",
   "metadata": {},
   "source": [
    "### 2020_tweets cleanup"
   ]
  },
  {
   "cell_type": "code",
   "execution_count": 6,
   "metadata": {},
   "outputs": [
    {
     "name": "stdout",
     "output_type": "stream",
     "text": [
      "Archive:  raw_data/2020_tweets/archive.zip\n",
      "  inflating: raw_data/2020_tweets/hashtag_donaldtrump.csv  \n",
      "  inflating: raw_data/2020_tweets/hashtag_joebiden.csv  \n"
     ]
    }
   ],
   "source": [
    "!unzip raw_data/2020_tweets/archive.zip -d raw_data/2020_tweets/\n",
    "raw_data_path = 'raw_data/2020_tweets/'\n",
    "output_path = 'data/2020_tweets/'\n",
    "\n",
    "df_biden = pd.read_csv(raw_data_path + 'hashtag_joebiden.csv', lineterminator='\\n',parse_dates=True)\n",
    "df_trump = pd.read_csv(raw_data_path + 'hashtag_donaldtrump.csv', lineterminator='\\n',parse_dates=True)\n",
    "\n",
    "df_trump['created_at'] = pd.to_datetime(df_trump['created_at'])\n",
    "df_trump = df_trump.sort_values(by='created_at', ascending=False)\n",
    "df_trump = df_trump.drop_duplicates(subset='tweet_id', keep='first')\n",
    "\n",
    "df_biden['created_at'] = pd.to_datetime(df_biden['created_at'])\n",
    "df_biden = df_biden.sort_values(by='created_at', ascending=False)\n",
    "df_biden = df_biden.drop_duplicates(subset='tweet_id', keep='first')\n",
    "\n",
    "df_biden['contains'] = \"Biden\"\n",
    "df_trump['contains'] = \"Trump\"\n",
    "\n",
    "df = pd.concat([df_biden, df_trump])\n",
    "\n",
    "df['contains'] = df.groupby('tweet_id')['contains'].transform(\n",
    "    lambda x: 'Both' if len(set(x)) > 1 else x\n",
    ")\n",
    "\n",
    "df = df.sort_values(by='created_at', ascending=False)\n",
    "df = df.drop_duplicates(subset='tweet_id', keep='first')\n",
    "\n",
    "df = df.reset_index(drop=True)\n",
    "\n",
    "train_df, temp_df = train_test_split(df, test_size=0.2, random_state=42)\n",
    "dev_df, test_df = train_test_split(temp_df, test_size=0.5, random_state=42)\n",
    "\n",
    "train_df.to_csv(output_path + 'train.csv', index=False)\n",
    "dev_df.to_csv(output_path + 'dev.csv', index=False)\n",
    "test_df.to_csv(output_path + 'test.csv', index=False)"
   ]
  }
 ],
 "metadata": {
  "kernelspec": {
   "display_name": "Python 3",
   "language": "python",
   "name": "python3"
  },
  "language_info": {
   "codemirror_mode": {
    "name": "ipython",
    "version": 3
   },
   "file_extension": ".py",
   "mimetype": "text/x-python",
   "name": "python",
   "nbconvert_exporter": "python",
   "pygments_lexer": "ipython3",
   "version": "3.11.10"
  }
 },
 "nbformat": 4,
 "nbformat_minor": 2
}
